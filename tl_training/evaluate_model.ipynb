{
 "cells": [
  {
   "cell_type": "code",
   "execution_count": null,
   "metadata": {},
   "outputs": [],
   "source": [
    "import tensorflow as tf\n",
    "import yaml\n",
    "import os\n",
    "from object_detection.utils import dataset_util\n",
    "import PIL\n",
    "import numpy as np\n",
    "from glob import glob\n",
    "from matplotlib import pyplot as plt\n",
    "from sklearn.model_selection import train_test_split\n",
    "from sklearn.utils import shuffle"
   ]
  },
  {
   "cell_type": "code",
   "execution_count": null,
   "metadata": {},
   "outputs": [],
   "source": [
    "%matplotlib inline"
   ]
  },
  {
   "cell_type": "code",
   "execution_count": null,
   "metadata": {},
   "outputs": [],
   "source": [
    "# Model evaluation on test images\n",
    "test_image_dir = '/home/td/test_tl_detector/'\n",
    "model_pb       = '/home/td/CarND-Capstone/ros/src/tl_detector/light_classification/models_frozen/frozen_srb_simon_tf1-3.pb'\n",
    "#model_pb       = '/home/td/CarND-Capstone/ros/src/tl_detector/light_classification/models_frozen/frozen_real_tf1-3.pb'\n",
    "#model_pb       = '/home/td/CarND-Capstone/ros/src/tl_detector/light_classification/models_frozen/frozen_sim_tf1-3.pb'\n",
    "label_path     = '/home/td/test_tl_detector/label_map.pbtxt'"
   ]
  },
  {
   "cell_type": "code",
   "execution_count": null,
   "metadata": {},
   "outputs": [],
   "source": [
    "# Helper function for batch evaluation\n",
    "from object_detection.utils import label_map_util\n",
    "from object_detection.utils import visualization_utils as vis_util\n",
    "import time \n",
    "\n",
    "%matplotlib inline\n",
    "NUM_CLASSES = 4\n",
    "\n",
    "def batch_evaluate(model_pb, label_path, test_image_dir, output_dir=None):\n",
    "    \n",
    "    label_map = label_map_util.load_labelmap(label_path)\n",
    "    categories = label_map_util.convert_label_map_to_categories(\n",
    "        label_map, max_num_classes=NUM_CLASSES, use_display_name=True)\n",
    "    category_index = label_map_util.create_category_index(categories)\n",
    "\n",
    "    TEST_IMAGE_PATHS = glob(os.path.join(test_image_dir, '*.jpg'))\n",
    "    detection_graph = tf.Graph()\n",
    "    \n",
    "    def load_image_into_numpy_array(image):\n",
    "        (im_width, im_height) = image.size\n",
    "        return np.array(image.getdata()).reshape((im_height, im_width, 3)).astype(np.uint8)\n",
    "    \n",
    "    with detection_graph.as_default():\n",
    "        \n",
    "        od_graph_def = tf.GraphDef()\n",
    "        with tf.gfile.GFile(model_pb, 'rb') as fid:\n",
    "            serialized_graph = fid.read()\n",
    "            od_graph_def.ParseFromString(serialized_graph)\n",
    "            tf.import_graph_def(od_graph_def, name='')\n",
    "    \n",
    "        with tf.Session(graph=detection_graph) as sess:\n",
    "            # Definite input and output Tensors for detection_graph\n",
    "            image_tensor = detection_graph.get_tensor_by_name('image_tensor:0')\n",
    "            \n",
    "            # Each box represents a part of the image where a particular object was detected.\n",
    "            detection_boxes = detection_graph.get_tensor_by_name('detection_boxes:0')\n",
    "            \n",
    "            # Each score represent how level of confidence for each of the objects.\n",
    "            # Score is shown on the result image, together with the class label.\n",
    "            detection_scores = detection_graph.get_tensor_by_name('detection_scores:0')\n",
    "            detection_classes = detection_graph.get_tensor_by_name('detection_classes:0')\n",
    "            num_detections = detection_graph.get_tensor_by_name('num_detections:0')\n",
    "            for image_path in TEST_IMAGE_PATHS:\n",
    "                image = PIL.Image.open(image_path)\n",
    "                # the array based representation of the image will be used later in order to prepare the\n",
    "                # result image with boxes and labels on it.\n",
    "                image_np = load_image_into_numpy_array(image)\n",
    "                # Expand dimensions since the model expects images to have shape: [1, None, None, 3]\n",
    "                image_np_expanded = np.expand_dims(image_np, axis=0)\n",
    "    \n",
    "                time0 = time.time()\n",
    "    \n",
    "                # Actual detection.\n",
    "                (boxes, scores, classes, num) = sess.run(\n",
    "                  [detection_boxes, detection_scores, detection_classes, num_detections],\n",
    "                  feed_dict={image_tensor: image_np_expanded})\n",
    "    \n",
    "                time1 = time.time()\n",
    "    \n",
    "                boxes = np.squeeze(boxes)\n",
    "                scores = np.squeeze(scores)\n",
    "                classes = np.squeeze(classes).astype(np.int32)\n",
    "                \n",
    "                # Visualization of the results of a detection.\n",
    "                vis_util.visualize_boxes_and_labels_on_image_array(\n",
    "                    image_np, boxes, classes, scores,\n",
    "                    category_index,\n",
    "                    use_normalized_coordinates=True,\n",
    "                    line_thickness=6)\n",
    "                \n",
    "                if output_dir is None:\n",
    "                    plt.figure(figsize=(12, 8))\n",
    "                    plt.imshow(image_np)\n",
    "                    plt.show()\n",
    "                else:\n",
    "                    if not os.path.exists(output_dir):\n",
    "                        os.makedirs(output_dir)\n",
    "                    \n",
    "                    output_path = os.path.split(image_path)[1]\n",
    "                    output_path = os.path.splitext(output_path)[0] + '.png'\n",
    "                    output_path = os.path.join(output_dir, output_path)\n",
    "                    plt.imsave(output_path, image_np)\n"
   ]
  },
  {
   "cell_type": "code",
   "execution_count": null,
   "metadata": {},
   "outputs": [],
   "source": [
    "# Evaluate trained model on test images\n",
    "output_dir = os.path.join(test_image_dir, 'ssdv2_srb')\n",
    "#output_dir = os.path.join(test_image_dir, 'ssdv2_real')\n",
    "#output_dir = os.path.join(test_image_dir, 'ssdv2_sim')\n",
    "batch_evaluate(model_pb, label_path, test_image_dir, output_dir)"
   ]
  },
  {
   "cell_type": "code",
   "execution_count": null,
   "metadata": {},
   "outputs": [],
   "source": []
  }
 ],
 "metadata": {
  "kernelspec": {
   "display_name": "Python 2",
   "language": "python",
   "name": "python2"
  },
  "language_info": {
   "codemirror_mode": {
    "name": "ipython",
    "version": 2
   },
   "file_extension": ".py",
   "mimetype": "text/x-python",
   "name": "python",
   "nbconvert_exporter": "python",
   "pygments_lexer": "ipython2",
   "version": "2.7.12"
  }
 },
 "nbformat": 4,
 "nbformat_minor": 1
}
